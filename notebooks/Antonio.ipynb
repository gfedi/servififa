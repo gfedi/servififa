{
 "cells": [
  {
   "cell_type": "code",
   "execution_count": 2,
   "metadata": {},
   "outputs": [],
   "source": [
    "import json"
   ]
  },
  {
   "cell_type": "code",
   "execution_count": 8,
   "metadata": {},
   "outputs": [],
   "source": [
    "# lista di eventi di gioco fornita in formato json\n",
    "events = json.load(open('../data/worldCup-final.json'))\n",
    "\n",
    "# lista di giocatori fornita in formato json\n",
    "players = json.load(open('../data/players.json'))"
   ]
  },
  {
   "cell_type": "code",
   "execution_count": 9,
   "metadata": {},
   "outputs": [
    {
     "data": {
      "text/plain": [
       "{'eventId': 8,\n",
       " 'subEventName': 'Simple pass',\n",
       " 'tags': [],\n",
       " 'playerId': 14943,\n",
       " 'positions': [{'y': 51, 'x': 50}],\n",
       " 'matchId': 2058017,\n",
       " 'eventName': 'Pass',\n",
       " 'teamId': 'Croatia',\n",
       " 'matchPeriod': '1H',\n",
       " 'eventSec': 1.8923389999999927,\n",
       " 'subEventId': 85,\n",
       " 'id': 263883958}"
      ]
     },
     "execution_count": 9,
     "metadata": {},
     "output_type": "execute_result"
    }
   ],
   "source": [
    "## esempio di dati per ogni evento\n",
    "events[0]"
   ]
  },
  {
   "cell_type": "code",
   "execution_count": 14,
   "metadata": {},
   "outputs": [
    {
     "data": {
      "text/plain": [
       "{'playerId': 69396, 'name': 'D. Vida'}"
      ]
     },
     "execution_count": 14,
     "metadata": {},
     "output_type": "execute_result"
    }
   ],
   "source": [
    "## esempio di dati per ogni player (semplice mappatura)\n",
    "players[3]"
   ]
  },
  {
   "cell_type": "code",
   "execution_count": 32,
   "metadata": {},
   "outputs": [
    {
     "name": "stdout",
     "output_type": "stream",
     "text": [
      "R. Varane\n",
      "I. Rakitić\n",
      "A. Griezmann\n",
      "D. Vida\n",
      "Š. Vrsaljko\n",
      "A. Kramarić\n",
      "A. Rebić\n",
      "D. Subašić\n",
      "M. Pjaca\n",
      "I. Strinić\n",
      "P. Pogba\n",
      "S. N'Zonzi\n",
      "L. Modrić\n",
      "C. Tolisso\n",
      "B. Pavard\n",
      "I. Perišić\n",
      "M. Mandžukić\n",
      "L. Hernández\n",
      "H. Lloris\n",
      "D. Lovren\n",
      "S. Umtiti\n",
      "B. Matuidi\n",
      "K. Mbappé\n",
      "O. Giroud\n",
      "M. Brozović\n"
     ]
    }
   ],
   "source": [
    "for p in players:\n",
    "    print(p['name'])"
   ]
  },
  {
   "cell_type": "code",
   "execution_count": 38,
   "metadata": {},
   "outputs": [],
   "source": [
    "#funzione che riassume attività player\n",
    "def player_summary(player_name):\n",
    "    ## aggregazione \n",
    "    event_count= {}\n",
    "    player_id = [p['playerId'] for p in players if p['name'] == player_name][0]\n",
    "\n",
    "    for event in events:\n",
    "        event_type = event['eventName']\n",
    "        p_id = event['playerId']\n",
    "        p_name = player_name\n",
    "        if not p_id == player_id:\n",
    "            continue\n",
    "        if player_name not in event_count:\n",
    "            event_count[player_name]={}\n",
    "        if event_type not in event_count[player_name]:\n",
    "            event_count[player_name][event_type] = 1\n",
    "        else :\n",
    "            event_count[player_name][event_type] += 1\n",
    "    \n",
    "    return event_count"
   ]
  },
  {
   "cell_type": "code",
   "execution_count": 39,
   "metadata": {},
   "outputs": [
    {
     "data": {
      "text/plain": [
       "{'M. Brozović': {'Pass': 90,\n",
       "  'Duel': 29,\n",
       "  'Free Kick': 5,\n",
       "  'Foul': 2,\n",
       "  'Others on the ball': 6}}"
      ]
     },
     "execution_count": 39,
     "metadata": {},
     "output_type": "execute_result"
    }
   ],
   "source": [
    "player_summary('M. Brozović')"
   ]
  },
  {
   "cell_type": "code",
   "execution_count": 41,
   "metadata": {},
   "outputs": [],
   "source": [
    "players_stats = []\n",
    "for p in players:\n",
    "    players_stats.append(player_summary(p['name']))\n",
    "    "
   ]
  },
  {
   "cell_type": "code",
   "execution_count": 67,
   "metadata": {},
   "outputs": [],
   "source": [
    "#order by shots \n",
    "def extract_stat(d, stat):\n",
    "    p_name = list(d.keys())[0]\n",
    "    if stat in d[p_name]:\n",
    "        return d[p_name][stat]\n",
    "    else:\n",
    "        return 0\n",
    "        \n",
    "#print(extract_shots(players_stats[1]))\n",
    "stats_shots = sorted(players_stats, key=lambda x: extract_stat(x, 'Shot'), reverse=True)\n",
    "stats_pass = sorted(players_stats, key=lambda x: extract_stat(x, 'Pass'), reverse=True)\n",
    "stats_foul = sorted(players_stats, key=lambda x: extract_stat(x, 'Foul'), reverse=True)"
   ]
  },
  {
   "cell_type": "code",
   "execution_count": 68,
   "metadata": {
    "scrolled": true
   },
   "outputs": [
    {
     "data": {
      "text/plain": [
       "[{'M. Brozović': {'Pass': 90,\n",
       "   'Duel': 29,\n",
       "   'Free Kick': 5,\n",
       "   'Foul': 2,\n",
       "   'Others on the ball': 6}},\n",
       " {'L. Modrić': {'Pass': 66,\n",
       "   'Duel': 17,\n",
       "   'Foul': 3,\n",
       "   'Free Kick': 10,\n",
       "   'Others on the ball': 6}},\n",
       " {'D. Lovren': {'Pass': 65, 'Duel': 11, 'Others on the ball': 6, 'Shot': 1}},\n",
       " {'I. Rakitić': {'Pass': 62,\n",
       "   'Others on the ball': 14,\n",
       "   'Free Kick': 8,\n",
       "   'Duel': 19,\n",
       "   'Shot': 3,\n",
       "   'Foul': 1}},\n",
       " {'Š. Vrsaljko': {'Pass': 62,\n",
       "   'Free Kick': 10,\n",
       "   'Duel': 19,\n",
       "   'Others on the ball': 6,\n",
       "   'Shot': 2,\n",
       "   'Foul': 2}},\n",
       " {'D. Vida': {'Pass': 46, 'Duel': 8, 'Others on the ball': 8, 'Shot': 2}},\n",
       " {'I. Perišić': {'Pass': 35,\n",
       "   'Duel': 24,\n",
       "   'Others on the ball': 9,\n",
       "   'Shot': 2,\n",
       "   'Foul': 1}},\n",
       " {'P. Pogba': {'Others on the ball': 8,\n",
       "   'Pass': 29,\n",
       "   'Duel': 23,\n",
       "   'Shot': 2,\n",
       "   'Free Kick': 2,\n",
       "   'Foul': 2}},\n",
       " {'M. Mandžukić': {'Pass': 28,\n",
       "   'Duel': 22,\n",
       "   'Others on the ball': 7,\n",
       "   'Foul': 2,\n",
       "   'Offside': 1,\n",
       "   'Free Kick': 2,\n",
       "   'Shot': 1}},\n",
       " {'I. Strinić': {'Pass': 25,\n",
       "   'Duel': 15,\n",
       "   'Free Kick': 4,\n",
       "   'Others on the ball': 4,\n",
       "   'Foul': 1}},\n",
       " {'R. Varane': {'Duel': 7,\n",
       "   'Pass': 22,\n",
       "   'Others on the ball': 9,\n",
       "   'Free Kick': 3}},\n",
       " {'A. Griezmann': {'Pass': 22,\n",
       "   'Duel': 25,\n",
       "   'Free Kick': 5,\n",
       "   'Others on the ball': 12,\n",
       "   'Shot': 1}},\n",
       " {'B. Matuidi': {'Pass': 22, 'Others on the ball': 2, 'Duel': 21, 'Foul': 1}},\n",
       " {'O. Giroud': {'Pass': 21,\n",
       "   'Duel': 31,\n",
       "   'Others on the ball': 8,\n",
       "   'Foul': 3,\n",
       "   'Shot': 1}},\n",
       " {'B. Pavard': {'Free Kick': 8,\n",
       "   'Duel': 16,\n",
       "   'Pass': 20,\n",
       "   'Foul': 1,\n",
       "   'Others on the ball': 9}},\n",
       " {'L. Hernández': {'Others on the ball': 8,\n",
       "   'Duel': 15,\n",
       "   'Pass': 20,\n",
       "   'Free Kick': 13,\n",
       "   'Foul': 1}},\n",
       " {'S. Umtiti': {'Duel': 10,\n",
       "   'Pass': 20,\n",
       "   'Others on the ball': 11,\n",
       "   'Free Kick': 1,\n",
       "   'Foul': 1}},\n",
       " {'H. Lloris': {'Pass': 16,\n",
       "   'Free Kick': 17,\n",
       "   'Goalkeeper leaving line': 5,\n",
       "   'Save attempt': 3,\n",
       "   'Duel': 1}},\n",
       " {'A. Rebić': {'Pass': 14,\n",
       "   'Duel': 26,\n",
       "   'Others on the ball': 4,\n",
       "   'Foul': 1,\n",
       "   'Shot': 3}},\n",
       " {\"S. N'Zonzi\": {'Duel': 3, 'Pass': 14, 'Others on the ball': 3}},\n",
       " {'D. Subašić': {'Pass': 13, 'Free Kick': 3, 'Save attempt': 7}},\n",
       " {'K. Mbappé': {'Others on the ball': 12,\n",
       "   'Duel': 19,\n",
       "   'Free Kick': 2,\n",
       "   'Pass': 13,\n",
       "   'Offside': 1,\n",
       "   'Shot': 2}},\n",
       " {'A. Kramarić': {'Pass': 10, 'Others on the ball': 2, 'Duel': 2}},\n",
       " {'C. Tolisso': {'Pass': 7, 'Duel': 3, 'Others on the ball': 1}},\n",
       " {'M. Pjaca': {'Duel': 2, 'Pass': 2}}]"
      ]
     },
     "execution_count": 68,
     "metadata": {},
     "output_type": "execute_result"
    }
   ],
   "source": [
    "stats_pass"
   ]
  },
  {
   "cell_type": "code",
   "execution_count": 69,
   "metadata": {
    "scrolled": true
   },
   "outputs": [
    {
     "data": {
      "text/plain": [
       "[{'L. Modrić': {'Pass': 66,\n",
       "   'Duel': 17,\n",
       "   'Foul': 3,\n",
       "   'Free Kick': 10,\n",
       "   'Others on the ball': 6}},\n",
       " {'O. Giroud': {'Pass': 21,\n",
       "   'Duel': 31,\n",
       "   'Others on the ball': 8,\n",
       "   'Foul': 3,\n",
       "   'Shot': 1}},\n",
       " {'Š. Vrsaljko': {'Pass': 62,\n",
       "   'Free Kick': 10,\n",
       "   'Duel': 19,\n",
       "   'Others on the ball': 6,\n",
       "   'Shot': 2,\n",
       "   'Foul': 2}},\n",
       " {'P. Pogba': {'Others on the ball': 8,\n",
       "   'Pass': 29,\n",
       "   'Duel': 23,\n",
       "   'Shot': 2,\n",
       "   'Free Kick': 2,\n",
       "   'Foul': 2}},\n",
       " {'M. Mandžukić': {'Pass': 28,\n",
       "   'Duel': 22,\n",
       "   'Others on the ball': 7,\n",
       "   'Foul': 2,\n",
       "   'Offside': 1,\n",
       "   'Free Kick': 2,\n",
       "   'Shot': 1}},\n",
       " {'M. Brozović': {'Pass': 90,\n",
       "   'Duel': 29,\n",
       "   'Free Kick': 5,\n",
       "   'Foul': 2,\n",
       "   'Others on the ball': 6}},\n",
       " {'I. Rakitić': {'Pass': 62,\n",
       "   'Others on the ball': 14,\n",
       "   'Free Kick': 8,\n",
       "   'Duel': 19,\n",
       "   'Shot': 3,\n",
       "   'Foul': 1}},\n",
       " {'A. Rebić': {'Pass': 14,\n",
       "   'Duel': 26,\n",
       "   'Others on the ball': 4,\n",
       "   'Foul': 1,\n",
       "   'Shot': 3}},\n",
       " {'I. Strinić': {'Pass': 25,\n",
       "   'Duel': 15,\n",
       "   'Free Kick': 4,\n",
       "   'Others on the ball': 4,\n",
       "   'Foul': 1}},\n",
       " {'B. Pavard': {'Free Kick': 8,\n",
       "   'Duel': 16,\n",
       "   'Pass': 20,\n",
       "   'Foul': 1,\n",
       "   'Others on the ball': 9}},\n",
       " {'I. Perišić': {'Pass': 35,\n",
       "   'Duel': 24,\n",
       "   'Others on the ball': 9,\n",
       "   'Shot': 2,\n",
       "   'Foul': 1}},\n",
       " {'L. Hernández': {'Others on the ball': 8,\n",
       "   'Duel': 15,\n",
       "   'Pass': 20,\n",
       "   'Free Kick': 13,\n",
       "   'Foul': 1}},\n",
       " {'S. Umtiti': {'Duel': 10,\n",
       "   'Pass': 20,\n",
       "   'Others on the ball': 11,\n",
       "   'Free Kick': 1,\n",
       "   'Foul': 1}},\n",
       " {'B. Matuidi': {'Pass': 22, 'Others on the ball': 2, 'Duel': 21, 'Foul': 1}},\n",
       " {'R. Varane': {'Duel': 7,\n",
       "   'Pass': 22,\n",
       "   'Others on the ball': 9,\n",
       "   'Free Kick': 3}},\n",
       " {'A. Griezmann': {'Pass': 22,\n",
       "   'Duel': 25,\n",
       "   'Free Kick': 5,\n",
       "   'Others on the ball': 12,\n",
       "   'Shot': 1}},\n",
       " {'D. Vida': {'Pass': 46, 'Duel': 8, 'Others on the ball': 8, 'Shot': 2}},\n",
       " {'A. Kramarić': {'Pass': 10, 'Others on the ball': 2, 'Duel': 2}},\n",
       " {'D. Subašić': {'Pass': 13, 'Free Kick': 3, 'Save attempt': 7}},\n",
       " {'M. Pjaca': {'Duel': 2, 'Pass': 2}},\n",
       " {\"S. N'Zonzi\": {'Duel': 3, 'Pass': 14, 'Others on the ball': 3}},\n",
       " {'C. Tolisso': {'Pass': 7, 'Duel': 3, 'Others on the ball': 1}},\n",
       " {'H. Lloris': {'Pass': 16,\n",
       "   'Free Kick': 17,\n",
       "   'Goalkeeper leaving line': 5,\n",
       "   'Save attempt': 3,\n",
       "   'Duel': 1}},\n",
       " {'D. Lovren': {'Pass': 65, 'Duel': 11, 'Others on the ball': 6, 'Shot': 1}},\n",
       " {'K. Mbappé': {'Others on the ball': 12,\n",
       "   'Duel': 19,\n",
       "   'Free Kick': 2,\n",
       "   'Pass': 13,\n",
       "   'Offside': 1,\n",
       "   'Shot': 2}}]"
      ]
     },
     "execution_count": 69,
     "metadata": {},
     "output_type": "execute_result"
    }
   ],
   "source": [
    "stats_foul"
   ]
  },
  {
   "cell_type": "code",
   "execution_count": null,
   "metadata": {},
   "outputs": [],
   "source": []
  }
 ],
 "metadata": {
  "kernelspec": {
   "display_name": "Python 3",
   "language": "python",
   "name": "python3"
  },
  "language_info": {
   "codemirror_mode": {
    "name": "ipython",
    "version": 3
   },
   "file_extension": ".py",
   "mimetype": "text/x-python",
   "name": "python",
   "nbconvert_exporter": "python",
   "pygments_lexer": "ipython3",
   "version": "3.6.5"
  }
 },
 "nbformat": 4,
 "nbformat_minor": 1
}
